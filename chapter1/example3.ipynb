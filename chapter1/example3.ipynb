{
 "metadata": {
  "language_info": {
   "codemirror_mode": {
    "name": "ipython",
    "version": 3
   },
   "file_extension": ".py",
   "mimetype": "text/x-python",
   "name": "python",
   "nbconvert_exporter": "python",
   "pygments_lexer": "ipython3",
   "version": 3
  },
  "orig_nbformat": 2
 },
 "nbformat": 4,
 "nbformat_minor": 2,
 "cells": [
  {
   "source": [
    "# 1.3 保留最后N 个元素"
   ],
   "cell_type": "markdown",
   "metadata": {}
  },
  {
   "source": [
    "问题:在迭代操作或者其他操作的时候，怎样只保留最后有限几个元素的历史记录"
   ],
   "cell_type": "markdown",
   "metadata": {}
  },
  {
   "source": [
    "解决方案: 保留有限历史记录正是collections.deque 大显身手的时候。比如，下面的代码在多行上面做简单的文本匹配，并返回匹配所在行的最后N行："
   ],
   "cell_type": "markdown",
   "metadata": {}
  },
  {
   "cell_type": "code",
   "execution_count": null,
   "metadata": {},
   "outputs": [],
   "source": [
    "from collections import deque\n",
    "\n",
    "def search(lines, pattern, history = 5):\n",
    "    previous_line = deque(maxlen=history)\n",
    "    for line in lines:\n",
    "        if pattern on line:\n",
    "            yield line, previous_line\n",
    "        previous_line.append(line)\n",
    "\n",
    "if __name__ == '__main__':\n",
    "    with open(r'')"
   ]
  }
 ]
}